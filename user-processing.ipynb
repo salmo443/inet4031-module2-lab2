{
 "cells": [
  {
   "cell_type": "code",
   "execution_count": 1,
   "id": "f9e64840-de1f-4d6c-8335-93bc01fe6f37",
   "metadata": {},
   "outputs": [
    {
     "name": "stdout",
     "output_type": "stream",
     "text": [
      "\n",
      "list-of-users was read.\n"
     ]
    },
    {
     "name": "stdin",
     "output_type": "stream",
     "text": [
      "\n",
      "Do you want to print out the list of users? (Y or N) y\n"
     ]
    },
    {
     "name": "stdout",
     "output_type": "stream",
     "text": [
      "\n",
      " dwash1:abc123:Washington:Denzel:administrators\n",
      "\n",
      "\n",
      " brpit2:abc123:Pitt:Brad:users\n",
      "\n",
      "\n",
      " tcook1:abc123:Tim:Cook:managers\n",
      "\n",
      "\n",
      " byonce:abc123:Knowles-Carter:Beyonce:administrators,queens\n",
      "\n",
      "End of User Processing\n",
      "\n"
     ]
    }
   ],
   "source": [
    "    #open the user list file\n",
    "    \n",
    "    userFile = open(\"list-of-users.txt\", \"r\")\n",
    "\n",
    "    #load the lines of the file into a list\n",
    "    listOfUsers = userFile.readlines()\n",
    "    print(\"\\nlist-of-users was read.\")\n",
    "\n",
    "    #ask the user to proceed\n",
    "    answer = input(\"\\nDo you want to print out the list of users? (Y or N)\")\n",
    "\n",
    "    if answer == \"Y\" or answer == \"y\":\n",
    "\n",
    "        for userline in listOfUsers:\n",
    "            print(\"\\n\", userline)\n",
    "\n",
    "    else:\n",
    "\n",
    "        print(\"\\nOk not printing, ending program.\")\n",
    "\n",
    "    print(\"\\nEnd of User Processing\\n\")\n",
    "\n"
   ]
  },
  {
   "cell_type": "code",
   "execution_count": null,
   "id": "c1acf572-e932-4083-9e36-d4a214e9e612",
   "metadata": {},
   "outputs": [],
   "source": []
  }
 ],
 "metadata": {
  "kernelspec": {
   "display_name": "Python 3 (ipykernel)",
   "language": "python",
   "name": "python3"
  },
  "language_info": {
   "codemirror_mode": {
    "name": "ipython",
    "version": 3
   },
   "file_extension": ".py",
   "mimetype": "text/x-python",
   "name": "python",
   "nbconvert_exporter": "python",
   "pygments_lexer": "ipython3",
   "version": "3.12.6"
  }
 },
 "nbformat": 4,
 "nbformat_minor": 5
}
